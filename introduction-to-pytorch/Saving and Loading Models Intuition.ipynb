{
  "nbformat": 4,
  "nbformat_minor": 0,
  "metadata": {
    "kernelspec": {
      "display_name": "Python 3",
      "language": "python",
      "name": "python3"
    },
    "language_info": {
      "codemirror_mode": {
        "name": "ipython",
        "version": 3
      },
      "file_extension": ".py",
      "mimetype": "text/x-python",
      "name": "python",
      "nbconvert_exporter": "python",
      "pygments_lexer": "ipython3",
      "version": "3.6.6"
    },
    "colab": {
      "name": "Saving and Loading Models.ipynb",
      "provenance": [],
      "include_colab_link": true
    }
  },
  "cells": [
    {
      "cell_type": "markdown",
      "metadata": {
        "id": "view-in-github",
        "colab_type": "text"
      },
      "source": [
        "<a href=\"https://colab.research.google.com/github/callezenwaka/pytorch-deep-learning/blob/main/pytorch%20exercises/Saving%20and%20Loading%20Models.ipynb\" target=\"_parent\"><img src=\"https://colab.research.google.com/assets/colab-badge.svg\" alt=\"Open In Colab\"/></a>"
      ]
    },
    {
      "cell_type": "markdown",
      "metadata": {
        "id": "oVmJhvkQH-nV"
      },
      "source": [
        "# Saving and Loading Models\n",
        "\n",
        "In this notebook, I'll show you how to save and load models with PyTorch. This is important because you'll often want to load previously trained models to use in making predictions or to continue training on new data."
      ]
    },
    {
      "cell_type": "code",
      "metadata": {
        "id": "RV_OpvXnIiwB"
      },
      "source": [
        "# import request package\n",
        "import requests"
      ],
      "execution_count": 1,
      "outputs": []
    },
    {
      "cell_type": "code",
      "metadata": {
        "id": "KnDbeowHImUl"
      },
      "source": [
        "# download fc_model.py file\n",
        "fc_model_url = 'https://raw.githubusercontent.com/udacity/deep-learning-v2-pytorch/master/intro-to-pytorch/fc_model.py'\n",
        "r = requests.get(fc_model_url)\n",
        "\n",
        "# make sure your filename is the same as how you want to import \n",
        "with open('fc_model.py', 'w') as f:\n",
        "    f.write(r.text)\n",
        "\n",
        "# download helper.py file\n",
        "helper_url = 'https://raw.githubusercontent.com/udacity/deep-learning-v2-pytorch/master/intro-to-pytorch/helper.py'\n",
        "r = requests.get(helper_url)\n",
        "\n",
        "# make sure your filename is the same as how you want to import \n",
        "with open('helper.py', 'w') as f:\n",
        "    f.write(r.text)"
      ],
      "execution_count": 2,
      "outputs": []
    },
    {
      "cell_type": "code",
      "metadata": {
        "id": "I3mlM8g3H-nb"
      },
      "source": [
        "%matplotlib inline\n",
        "%config InlineBackend.figure_format = 'retina'\n",
        "\n",
        "import matplotlib.pyplot as plt\n",
        "\n",
        "import torch\n",
        "from torch import nn\n",
        "from torch import optim\n",
        "import torch.nn.functional as F\n",
        "from torchvision import datasets, transforms\n",
        "\n",
        "import helper\n",
        "import fc_model"
      ],
      "execution_count": 3,
      "outputs": []
    },
    {
      "cell_type": "code",
      "metadata": {
        "id": "RtHgty-RH-nd",
        "outputId": "1efc95eb-a30e-48f6-cf78-c94b950261e8",
        "colab": {
          "base_uri": "https://localhost:8080/"
        }
      },
      "source": [
        "# Define a transform to normalize the data\n",
        "transform = transforms.Compose([transforms.ToTensor(),\n",
        "                                transforms.Normalize((0.5,), (0.5,))])\n",
        "# Download and load the training data\n",
        "trainset = datasets.FashionMNIST('~/.pytorch/F_MNIST_data/', download=True, train=True, transform=transform)\n",
        "trainloader = torch.utils.data.DataLoader(trainset, batch_size=64, shuffle=True)\n",
        "\n",
        "# Download and load the test data\n",
        "testset = datasets.FashionMNIST('~/.pytorch/F_MNIST_data/', download=True, train=False, transform=transform)\n",
        "testloader = torch.utils.data.DataLoader(testset, batch_size=64, shuffle=True)"
      ],
      "execution_count": 4,
      "outputs": [
        {
          "output_type": "stream",
          "name": "stderr",
          "text": [
            "/usr/local/lib/python3.7/dist-packages/torchvision/datasets/mnist.py:498: UserWarning: The given NumPy array is not writeable, and PyTorch does not support non-writeable tensors. This means you can write to the underlying (supposedly non-writeable) NumPy array using the tensor. You may want to copy the array to protect its data or make it writeable before converting it to a tensor. This type of warning will be suppressed for the rest of this program. (Triggered internally at  /pytorch/torch/csrc/utils/tensor_numpy.cpp:180.)\n",
            "  return torch.from_numpy(parsed.astype(m[2], copy=False)).view(*s)\n"
          ]
        }
      ]
    },
    {
      "cell_type": "markdown",
      "metadata": {
        "id": "5HQhRMOMH-ne"
      },
      "source": [
        "Here we can see one of the images."
      ]
    },
    {
      "cell_type": "code",
      "metadata": {
        "id": "w3XguyOCH-nf",
        "outputId": "cbac0c11-8852-43e8-b777-98da084aa5ef",
        "colab": {
          "base_uri": "https://localhost:8080/",
          "height": 248
        }
      },
      "source": [
        "image, label = next(iter(trainloader))\n",
        "helper.imshow(image[0,:]);"
      ],
      "execution_count": 5,
      "outputs": [
        {
          "output_type": "display_data",
          "data": {
            "image/png": "[encoded data removed]",
            "text/plain": [
              "<Figure size 432x288 with 1 Axes>"
            ]
          },
          "metadata": {
            "image/png": {
              "width": 231,
              "height": 231
            },
            "needs_background": "light"
          }
        }
      ]
    },
    {
      "cell_type": "markdown",
      "metadata": {
        "id": "QB-ixvKKH-ng"
      },
      "source": [
        "# Train a network\n",
        "\n",
        "To make things more concise here, I moved the model architecture and training code from the last part to a file called `fc_model`. Importing this, we can easily create a fully-connected network with `fc_model.Network`, and train the network using `fc_model.train`. I'll use this model (once it's trained) to demonstrate how we can save and load models."
      ]
    },
    {
      "cell_type": "code",
      "metadata": {
        "id": "51wEhHZvH-nh"
      },
      "source": [
        "# Create the network, define the criterion and optimizer\n",
        "\n",
        "model = fc_model.Network(784, 10, [512, 256, 128])\n",
        "criterion = nn.NLLLoss()\n",
        "optimizer = optim.Adam(model.parameters(), lr=0.001)"
      ],
      "execution_count": 6,
      "outputs": []
    },
    {
      "cell_type": "code",
      "metadata": {
        "id": "DVXhLvMuH-nh",
        "outputId": "6fe4fa85-ebab-44aa-e0cd-30becbe37e99",
        "colab": {
          "base_uri": "https://localhost:8080/"
        }
      },
      "source": [
        "fc_model.train(model, trainloader, testloader, criterion, optimizer, epochs=2)"
      ],
      "execution_count": 7,
      "outputs": [
        {
          "output_type": "stream",
          "name": "stdout",
          "text": [
            "Epoch: 1/2..  Training Loss: 1.714..  Test Loss: 1.053..  Test Accuracy: 0.622\n",
            "Epoch: 1/2..  Training Loss: 1.081..  Test Loss: 0.765..  Test Accuracy: 0.717\n",
            "Epoch: 1/2..  Training Loss: 0.875..  Test Loss: 0.686..  Test Accuracy: 0.738\n",
            "Epoch: 1/2..  Training Loss: 0.754..  Test Loss: 0.650..  Test Accuracy: 0.757\n",
            "Epoch: 1/2..  Training Loss: 0.738..  Test Loss: 0.609..  Test Accuracy: 0.775\n",
            "Epoch: 1/2..  Training Loss: 0.696..  Test Loss: 0.597..  Test Accuracy: 0.763\n",
            "Epoch: 1/2..  Training Loss: 0.678..  Test Loss: 0.577..  Test Accuracy: 0.786\n",
            "Epoch: 1/2..  Training Loss: 0.684..  Test Loss: 0.570..  Test Accuracy: 0.784\n",
            "Epoch: 1/2..  Training Loss: 0.639..  Test Loss: 0.576..  Test Accuracy: 0.783\n",
            "Epoch: 1/2..  Training Loss: 0.680..  Test Loss: 0.543..  Test Accuracy: 0.801\n",
            "Epoch: 1/2..  Training Loss: 0.642..  Test Loss: 0.535..  Test Accuracy: 0.799\n",
            "Epoch: 1/2..  Training Loss: 0.649..  Test Loss: 0.529..  Test Accuracy: 0.806\n",
            "Epoch: 1/2..  Training Loss: 0.599..  Test Loss: 0.540..  Test Accuracy: 0.799\n",
            "Epoch: 1/2..  Training Loss: 0.592..  Test Loss: 0.533..  Test Accuracy: 0.801\n",
            "Epoch: 1/2..  Training Loss: 0.603..  Test Loss: 0.503..  Test Accuracy: 0.809\n",
            "Epoch: 1/2..  Training Loss: 0.581..  Test Loss: 0.497..  Test Accuracy: 0.818\n",
            "Epoch: 1/2..  Training Loss: 0.580..  Test Loss: 0.552..  Test Accuracy: 0.790\n",
            "Epoch: 1/2..  Training Loss: 0.575..  Test Loss: 0.499..  Test Accuracy: 0.819\n",
            "Epoch: 1/2..  Training Loss: 0.596..  Test Loss: 0.499..  Test Accuracy: 0.815\n",
            "Epoch: 1/2..  Training Loss: 0.586..  Test Loss: 0.483..  Test Accuracy: 0.822\n",
            "Epoch: 1/2..  Training Loss: 0.567..  Test Loss: 0.481..  Test Accuracy: 0.823\n",
            "Epoch: 1/2..  Training Loss: 0.556..  Test Loss: 0.470..  Test Accuracy: 0.824\n",
            "Epoch: 1/2..  Training Loss: 0.580..  Test Loss: 0.478..  Test Accuracy: 0.823\n",
            "Epoch: 2/2..  Training Loss: 0.589..  Test Loss: 0.477..  Test Accuracy: 0.825\n",
            "Epoch: 2/2..  Training Loss: 0.547..  Test Loss: 0.470..  Test Accuracy: 0.826\n",
            "Epoch: 2/2..  Training Loss: 0.515..  Test Loss: 0.471..  Test Accuracy: 0.828\n",
            "Epoch: 2/2..  Training Loss: 0.588..  Test Loss: 0.484..  Test Accuracy: 0.824\n",
            "Epoch: 2/2..  Training Loss: 0.555..  Test Loss: 0.464..  Test Accuracy: 0.828\n",
            "Epoch: 2/2..  Training Loss: 0.511..  Test Loss: 0.467..  Test Accuracy: 0.830\n",
            "Epoch: 2/2..  Training Loss: 0.548..  Test Loss: 0.481..  Test Accuracy: 0.830\n",
            "Epoch: 2/2..  Training Loss: 0.523..  Test Loss: 0.460..  Test Accuracy: 0.827\n",
            "Epoch: 2/2..  Training Loss: 0.502..  Test Loss: 0.452..  Test Accuracy: 0.837\n",
            "Epoch: 2/2..  Training Loss: 0.530..  Test Loss: 0.457..  Test Accuracy: 0.834\n",
            "Epoch: 2/2..  Training Loss: 0.487..  Test Loss: 0.454..  Test Accuracy: 0.835\n",
            "Epoch: 2/2..  Training Loss: 0.541..  Test Loss: 0.451..  Test Accuracy: 0.834\n",
            "Epoch: 2/2..  Training Loss: 0.559..  Test Loss: 0.471..  Test Accuracy: 0.826\n",
            "Epoch: 2/2..  Training Loss: 0.516..  Test Loss: 0.459..  Test Accuracy: 0.835\n",
            "Epoch: 2/2..  Training Loss: 0.537..  Test Loss: 0.456..  Test Accuracy: 0.834\n",
            "Epoch: 2/2..  Training Loss: 0.522..  Test Loss: 0.465..  Test Accuracy: 0.831\n",
            "Epoch: 2/2..  Training Loss: 0.518..  Test Loss: 0.458..  Test Accuracy: 0.840\n",
            "Epoch: 2/2..  Training Loss: 0.528..  Test Loss: 0.460..  Test Accuracy: 0.841\n",
            "Epoch: 2/2..  Training Loss: 0.516..  Test Loss: 0.480..  Test Accuracy: 0.819\n",
            "Epoch: 2/2..  Training Loss: 0.519..  Test Loss: 0.450..  Test Accuracy: 0.834\n",
            "Epoch: 2/2..  Training Loss: 0.515..  Test Loss: 0.441..  Test Accuracy: 0.838\n",
            "Epoch: 2/2..  Training Loss: 0.537..  Test Loss: 0.441..  Test Accuracy: 0.839\n",
            "Epoch: 2/2..  Training Loss: 0.532..  Test Loss: 0.459..  Test Accuracy: 0.836\n"
          ]
        }
      ]
    },
    {
      "cell_type": "markdown",
      "metadata": {
        "id": "10mgjfCoH-ni"
      },
      "source": [
        "## Saving and loading networks\n",
        "\n",
        "As you can imagine, it's impractical to train a network every time you need to use it. Instead, we can save trained networks then load them later to train more or use them for predictions.\n",
        "\n",
        "The parameters for PyTorch networks are stored in a model's `state_dict`. We can see the state dict contains the weight and bias matrices for each of our layers."
      ]
    },
    {
      "cell_type": "code",
      "metadata": {
        "id": "hS1PjXS5H-nj",
        "outputId": "bdb5ef0b-1a45-4699-9005-c9a7f156c77e",
        "colab": {
          "base_uri": "https://localhost:8080/"
        }
      },
      "source": [
        "print(\"Our model: \\n\\n\", model, '\\n')\n",
        "print(\"The state dict keys: \\n\\n\", model.state_dict().keys())"
      ],
      "execution_count": 8,
      "outputs": [
        {
          "output_type": "stream",
          "name": "stdout",
          "text": [
            "Our model: \n",
            "\n",
            " Network(\n",
            "  (hidden_layers): ModuleList(\n",
            "    (0): Linear(in_features=784, out_features=512, bias=True)\n",
            "    (1): Linear(in_features=512, out_features=256, bias=True)\n",
            "    (2): Linear(in_features=256, out_features=128, bias=True)\n",
            "  )\n",
            "  (output): Linear(in_features=128, out_features=10, bias=True)\n",
            "  (dropout): Dropout(p=0.5, inplace=False)\n",
            ") \n",
            "\n",
            "The state dict keys: \n",
            "\n",
            " odict_keys(['hidden_layers.0.weight', 'hidden_layers.0.bias', 'hidden_layers.1.weight', 'hidden_layers.1.bias', 'hidden_layers.2.weight', 'hidden_layers.2.bias', 'output.weight', 'output.bias'])\n"
          ]
        }
      ]
    },
    {
      "cell_type": "markdown",
      "metadata": {
        "id": "UZMa3cgHH-nk"
      },
      "source": [
        "The simplest thing to do is simply save the state dict with `torch.save`. For example, we can save it to a file `'checkpoint.pth'`."
      ]
    },
    {
      "cell_type": "code",
      "metadata": {
        "id": "c-NS2m6GH-nk"
      },
      "source": [
        "torch.save(model.state_dict(), 'checkpoint.pth')"
      ],
      "execution_count": 9,
      "outputs": []
    },
    {
      "cell_type": "markdown",
      "metadata": {
        "id": "JGAOsEh9H-nl"
      },
      "source": [
        "Then we can load the state dict with `torch.load`."
      ]
    },
    {
      "cell_type": "code",
      "metadata": {
        "id": "7pPuSKDsH-nl",
        "outputId": "2f589f78-5e75-4d00-a3a8-cd4758bc39d8",
        "colab": {
          "base_uri": "https://localhost:8080/"
        }
      },
      "source": [
        "state_dict = torch.load('checkpoint.pth')\n",
        "print(state_dict.keys())"
      ],
      "execution_count": 10,
      "outputs": [
        {
          "output_type": "stream",
          "name": "stdout",
          "text": [
            "odict_keys(['hidden_layers.0.weight', 'hidden_layers.0.bias', 'hidden_layers.1.weight', 'hidden_layers.1.bias', 'hidden_layers.2.weight', 'hidden_layers.2.bias', 'output.weight', 'output.bias'])\n"
          ]
        }
      ]
    },
    {
      "cell_type": "markdown",
      "metadata": {
        "id": "G4ucyBVHH-nm"
      },
      "source": [
        "And to load the state dict in to the network, you do `model.load_state_dict(state_dict)`."
      ]
    },
    {
      "cell_type": "code",
      "metadata": {
        "id": "2bdIJyN2H-nm",
        "outputId": "aec5461f-cf43-4c55-ab5a-d8d774248e9a",
        "colab": {
          "base_uri": "https://localhost:8080/"
        }
      },
      "source": [
        "model.load_state_dict(state_dict)"
      ],
      "execution_count": 12,
      "outputs": [
        {
          "output_type": "execute_result",
          "data": {
            "text/plain": [
              "<All keys matched successfully>"
            ]
          },
          "metadata": {},
          "execution_count": 12
        }
      ]
    },
    {
      "cell_type": "markdown",
      "metadata": {
        "id": "SVz1mzGlH-nm"
      },
      "source": [
        "Seems pretty straightforward, but as usual it's a bit more complicated. Loading the state dict works only if the model architecture is exactly the same as the checkpoint architecture. If I create a model with a different architecture, this fails."
      ]
    },
    {
      "cell_type": "code",
      "metadata": {
        "id": "X_8ZRklMH-nn"
      },
      "source": [
        "# Try this\n",
        "model = fc_model.Network(784, 10, [400, 200, 100])\n",
        "# This will throw an error because the tensor sizes are wrong!\n",
        "model.load_state_dict(state_dict)"
      ],
      "execution_count": null,
      "outputs": []
    },
    {
      "cell_type": "markdown",
      "metadata": {
        "id": "ArvEgU5RH-nn"
      },
      "source": [
        "This means we need to rebuild the model exactly as it was when trained. Information about the model architecture needs to be saved in the checkpoint, along with the state dict. To do this, you build a dictionary with all the information you need to compeletely rebuild the model."
      ]
    },
    {
      "cell_type": "code",
      "metadata": {
        "id": "KgHvJqbeH-nn"
      },
      "source": [
        "checkpoint = {'input_size': 784,\n",
        "              'output_size': 10,\n",
        "              'hidden_layers': [each.out_features for each in model.hidden_layers],\n",
        "              'state_dict': model.state_dict()}\n",
        "\n",
        "torch.save(checkpoint, 'checkpoint.pth')"
      ],
      "execution_count": 14,
      "outputs": []
    },
    {
      "cell_type": "markdown",
      "metadata": {
        "id": "0Ao9miO-H-no"
      },
      "source": [
        "Now the checkpoint has all the necessary information to rebuild the trained model. You can easily make that a function if you want. Similarly, we can write a function to load checkpoints. "
      ]
    },
    {
      "cell_type": "code",
      "metadata": {
        "id": "QTi8vPN8H-no"
      },
      "source": [
        "def load_checkpoint(filepath):\n",
        "    checkpoint = torch.load(filepath)\n",
        "    model = fc_model.Network(checkpoint['input_size'],\n",
        "                             checkpoint['output_size'],\n",
        "                             checkpoint['hidden_layers'])\n",
        "    model.load_state_dict(checkpoint['state_dict'])\n",
        "    \n",
        "    return model"
      ],
      "execution_count": 15,
      "outputs": []
    },
    {
      "cell_type": "code",
      "metadata": {
        "id": "6-6LYCpYH-no",
        "outputId": "a97e771c-9d14-41a1-ae5e-99f486c0027f",
        "colab": {
          "base_uri": "https://localhost:8080/"
        }
      },
      "source": [
        "model = load_checkpoint('checkpoint.pth')\n",
        "print(model)"
      ],
      "execution_count": 16,
      "outputs": [
        {
          "output_type": "stream",
          "name": "stdout",
          "text": [
            "Network(\n",
            "  (hidden_layers): ModuleList(\n",
            "    (0): Linear(in_features=784, out_features=400, bias=True)\n",
            "    (1): Linear(in_features=400, out_features=200, bias=True)\n",
            "    (2): Linear(in_features=200, out_features=100, bias=True)\n",
            "  )\n",
            "  (output): Linear(in_features=100, out_features=10, bias=True)\n",
            "  (dropout): Dropout(p=0.5, inplace=False)\n",
            ")\n"
          ]
        }
      ]
    }
  ]
}